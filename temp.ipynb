{
 "cells": [
  {
   "cell_type": "code",
<<<<<<< HEAD
   "execution_count": 1,
   "metadata": {},
   "outputs": [],
   "source": [
    "import os"
   ]
  },
  {
   "cell_type": "code",
=======
>>>>>>> 572c36904c37bcba11f6662f80751626082ef050
   "execution_count": null,
   "metadata": {},
   "outputs": [],
   "source": [
<<<<<<< HEAD
    "# Assigning API key stored in an environtment variable\n",
    "YELP_API_KEY = os.environ[\"YELP_API_KEY\"]\n",
    "\n",
    "# API endpoint\n",
    "url = \"https://api.yelp.com/v3/businesses/search\"\n",
    "\n",
    "# header\n",
    "headers = {\n",
    "    \"accept\": \"application/json\",\n",
    "    \"Authorization\": f\"Bearer {YELP_API_KEY}\"\n",
    "}\n",
    "\n",
    "# Parameters for Yelp API request \n",
    "bixi_data = pd.read_csv('bixi_bike_stations.csv') # from city_bikes.ipynb\n",
    "radius = 1000\n",
    "categories = 'coffee,restaurants' # id for <Coffee> and <Restaurants>\n",
    "\n",
    "# Rate limit in seconds\n",
    "rate_limit = 1/50\n",
    "\n",
    "# List used to store data from API request\n",
    "results_list_yelp = []\n",
    "\n",
    "# Loop through each station and make an API request\n",
    "for index, station in bixi_data.iterrows():\n",
    "    params = {\n",
    "        'latitude': station['latitude'], # Location: Montreal, QC\n",
    "        'longitude': station['longitude'], # Location: Montreal, QC\n",
    "        'radius': radius,\n",
    "        'categories': categories\n",
    "    }\n",
    "    \n",
    "    response = requests.get(url, params=params, headers=headers)\n",
    "    # Checking for the status code and error handling\n",
    "    if response.status_code == 200:\n",
    "        data = response.json()\n",
    "        results_list_yelp.append(data)\n",
    "    else:\n",
    "        print(f\"Error: {response.status_code}\")\n",
    "        print(response.text)\n",
    "        break\n",
    "    \n",
    "    # Rate limit delay to avoid getting restriction on API requests\n",
    "    time.sleep(rate_limit)"
=======
    "aloha"
>>>>>>> 572c36904c37bcba11f6662f80751626082ef050
   ]
  }
 ],
 "metadata": {
  "kernelspec": {
   "display_name": "test_env",
   "language": "python",
   "name": "test_env"
  },
  "language_info": {
   "codemirror_mode": {
    "name": "ipython",
    "version": 3
   },
   "file_extension": ".py",
   "mimetype": "text/x-python",
   "name": "python",
   "nbconvert_exporter": "python",
   "pygments_lexer": "ipython3",
   "version": "3.9.18"
  }
 },
 "nbformat": 4,
 "nbformat_minor": 2
}
